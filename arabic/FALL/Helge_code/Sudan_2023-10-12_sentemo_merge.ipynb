{
 "cells": [
  {
   "cell_type": "code",
   "execution_count": 1,
   "id": "5247fed3",
   "metadata": {},
   "outputs": [],
   "source": [
    "import numpy as np\n",
    "import pandas as pd\n",
    "import os\n",
    "from datetime import date, timedelta\n",
    "import seaborn as sns\n",
    "import matplotlib.pyplot as plt"
   ]
  },
  {
   "cell_type": "code",
   "execution_count": 2,
   "id": "ab4cdc63",
   "metadata": {},
   "outputs": [],
   "source": [
    "os.chdir(\"./Sudan cities/\")"
   ]
  },
  {
   "cell_type": "code",
   "execution_count": 3,
   "id": "82907c5b",
   "metadata": {},
   "outputs": [],
   "source": [
    "cities = pd.read_excel(\"Sudan_city_regions_2023-10-09.xlsx\")"
   ]
  },
  {
   "cell_type": "code",
   "execution_count": 4,
   "id": "7b215b97",
   "metadata": {},
   "outputs": [],
   "source": [
    "edges = pd.read_excel(\"Sudan_states_edgelist_2023-10-12.xlsx\")\n",
    "edges['val'] = edges['val_delta'].fillna(0).apply(lambda x: 0 if x<0 else x)"
   ]
  },
  {
   "cell_type": "code",
   "execution_count": 5,
   "id": "64f3c17c",
   "metadata": {},
   "outputs": [],
   "source": [
    "outmigration = edges.groupby(['from','date_later']).agg({'val':'sum'}).reset_index()"
   ]
  },
  {
   "cell_type": "code",
   "execution_count": 6,
   "id": "ced4baa9",
   "metadata": {},
   "outputs": [],
   "source": [
    "inmigration = edges.groupby(['to','date_later']).agg({'val':'sum'}).reset_index()"
   ]
  },
  {
   "cell_type": "code",
   "execution_count": 7,
   "id": "a353393f",
   "metadata": {},
   "outputs": [],
   "source": [
    "sentiment = pd.read_csv(\"sentiment.csv\")"
   ]
  },
  {
   "cell_type": "code",
   "execution_count": 8,
   "id": "718fbb53",
   "metadata": {},
   "outputs": [],
   "source": [
    "emotions = pd.read_csv(\"emotions.csv\")"
   ]
  },
  {
   "cell_type": "code",
   "execution_count": 9,
   "id": "cf202055",
   "metadata": {},
   "outputs": [],
   "source": [
    "predictors = sentiment.merge(emotions, on=['tweet_id', 'date'], how='outer', suffixes=('_sent', '_emo'))\n",
    "predictors['date'] = pd.to_datetime(predictors['date'])\n",
    "predictors = predictors.loc[predictors['language']!='tr',:]"
   ]
  },
  {
   "cell_type": "code",
   "execution_count": 10,
   "id": "c997a9b3",
   "metadata": {},
   "outputs": [
    {
     "data": {
      "text/plain": [
       "{'Kaduqli', 'Zalingei', 'أم بدر', 'الخرطوم', 'بورام', 'جيدات', 'سوكي', 'نيالا'}"
      ]
     },
     "execution_count": 10,
     "metadata": {},
     "output_type": "execute_result"
    }
   ],
   "source": [
    "set(cities['name_translated']).intersection(predictors['city'])"
   ]
  },
  {
   "cell_type": "code",
   "execution_count": 11,
   "id": "c17f5307",
   "metadata": {},
   "outputs": [],
   "source": [
    "cities.rename({'name_translated':'city'}, axis=1, inplace=True)"
   ]
  },
  {
   "cell_type": "code",
   "execution_count": 12,
   "id": "248a2412",
   "metadata": {},
   "outputs": [
    {
     "data": {
      "text/plain": [
       "Sudan_regions\n",
       "True     52194\n",
       "False    32537\n",
       "Name: count, dtype: int64"
      ]
     },
     "execution_count": 12,
     "metadata": {},
     "output_type": "execute_result"
    }
   ],
   "source": [
    "predictors = predictors.merge(cities.loc[:,['city', 'Sudan_regions']], how='left', on='city')\n",
    "predictors['Sudan_regions'].isnull().value_counts()"
   ]
  },
  {
   "cell_type": "code",
   "execution_count": 13,
   "id": "05674cdd",
   "metadata": {},
   "outputs": [],
   "source": [
    "predictors = predictors.loc[predictors['Sudan_regions'].notnull(), :]"
   ]
  },
  {
   "cell_type": "code",
   "execution_count": 14,
   "id": "b2d223c7",
   "metadata": {},
   "outputs": [],
   "source": [
    "date_trans_dict = {}\n",
    "dates = [date(2023, 4, 14)] + [x.date() for x in sorted(edges['date_later'].unique())]\n",
    "for d1, d2 in list(zip(dates[:-1], dates[1:])):\n",
    "    target_date = d1 + timedelta(days=1)\n",
    "    while target_date<=d2:\n",
    "        date_trans_dict[target_date] = d2\n",
    "        target_date += timedelta(days=1)"
   ]
  },
  {
   "cell_type": "code",
   "execution_count": 15,
   "id": "65a4a5e1",
   "metadata": {},
   "outputs": [],
   "source": [
    "predictors['date_later'] = predictors['date'].map(date_trans_dict).fillna('2023-04-14')"
   ]
  },
  {
   "cell_type": "code",
   "execution_count": 16,
   "id": "01186e5e",
   "metadata": {
    "scrolled": true
   },
   "outputs": [
    {
     "data": {
      "text/plain": [
       "<Axes: xlabel='date', ylabel='date_later'>"
      ]
     },
     "execution_count": 16,
     "metadata": {},
     "output_type": "execute_result"
    },
    {
     "data": {
      "image/png": "[encoded data removed]",
      "text/plain": [
       "<Figure size 640x480 with 1 Axes>"
      ]
     },
     "metadata": {},
     "output_type": "display_data"
    }
   ],
   "source": [
    "date_coversion = predictors.groupby('date_later')['date'].value_counts().reset_index()\n",
    "sns.scatterplot(y='date_later', x='date', data=date_coversion)"
   ]
  },
  {
   "cell_type": "code",
   "execution_count": 17,
   "id": "36924a2d",
   "metadata": {},
   "outputs": [],
   "source": [
    "nr_tweets = predictors.groupby(['Sudan_regions','date_later']).size().reset_index(name='nr_tweets')"
   ]
  },
  {
   "cell_type": "code",
   "execution_count": 18,
   "id": "799d3b1c",
   "metadata": {},
   "outputs": [],
   "source": [
    "sent_vars = ['sentiment_comboLex', 'sentiment_SVM', 'sentiment_multiBERT']\n",
    "emo_vars = ['anger_NaiveBayes', 'fear_NaiveBayes', 'sadness_NaiveBayes', 'disgust_NaiveBayes',\n",
    "            'joy_NaiveBayes', 'anger-disgust_NaiveBayes', 'anger_Lex', 'fear_Lex',\n",
    "            'sadness_Lex', 'disgust_Lex', 'joy_Lex', 'anger-disgust_Lex', 'anger_GloVe',\n",
    "            'fear_GloVe', 'sadness_GloVe', 'disgust_GloVe', 'joy_GloVe', 'anger-disgust_GloVe']"
   ]
  },
  {
   "cell_type": "code",
   "execution_count": 19,
   "id": "498464a0",
   "metadata": {},
   "outputs": [],
   "source": [
    "agg_method_df = {}\n",
    "pred_vars = []\n",
    "for agg_method in ['mean', 'sum', 'max']:\n",
    "    agg_dict = {}\n",
    "    for var in sent_vars + emo_vars:\n",
    "        agg_dict[var] = agg_method\n",
    "    agg_df = predictors.groupby(['Sudan_regions','date_later']).agg(agg_dict).reset_index()\n",
    "    agg_df.columns = [x + '_' + agg_method for x in agg_df.columns]\n",
    "    pred_vars.extend(agg_df.columns[2:])\n",
    "    agg_method_df[agg_method] = agg_df"
   ]
  },
  {
   "cell_type": "code",
   "execution_count": 20,
   "id": "bca4673c",
   "metadata": {},
   "outputs": [],
   "source": [
    "full_agg_df = pd.concat([nr_tweets, agg_method_df['mean'], agg_method_df['sum'], agg_method_df['max']], axis=1)\n",
    "full_agg_df['date_later'] = full_agg_df['date_later'].astype(str)"
   ]
  },
  {
   "cell_type": "code",
   "execution_count": 21,
   "id": "5ce8e46a",
   "metadata": {},
   "outputs": [],
   "source": [
    "outmigration['date_later'] = outmigration['date_later'].astype(str)\n",
    "id_vars = ['Sudan_regions', 'date_later']\n",
    "outmigration_full=\\\n",
    "    outmigration.merge(full_agg_df.loc[:,id_vars + pred_vars],\n",
    "                       how='left', left_on=['from', 'date_later'],\n",
    "                       right_on=['Sudan_regions', 'date_later'])\n",
    "outmigration_full.drop('Sudan_regions', axis=1, inplace=True)\n",
    "outmigration_full.fillna(0, inplace=True)\n",
    "outmigration_full['date_later'] = pd.to_datetime(outmigration_full['date_later'])"
   ]
  },
  {
   "cell_type": "code",
   "execution_count": 22,
   "id": "b00e898d",
   "metadata": {},
   "outputs": [],
   "source": [
    "inmigration['date_later'] = inmigration['date_later'].astype(str)\n",
    "inmigration_full=\\\n",
    "    inmigration.merge(full_agg_df.loc[:,id_vars + pred_vars],\n",
    "                       how='left', left_on=['to', 'date_later'],\n",
    "                       right_on=['Sudan_regions', 'date_later'])\n",
    "inmigration_full.drop('Sudan_regions', axis=1, inplace=True)\n",
    "inmigration_full.fillna(0, inplace=True)\n",
    "inmigration_full['date_later'] = pd.to_datetime(inmigration_full['date_later'])"
   ]
  },
  {
   "cell_type": "code",
   "execution_count": 23,
   "id": "a5ea0168",
   "metadata": {},
   "outputs": [],
   "source": [
    "outmigration_full.to_csv(\"Sudan_states_outmigration_2023-10-12.csv\", index=False)"
   ]
  },
  {
   "cell_type": "code",
   "execution_count": 24,
   "id": "a060adec",
   "metadata": {},
   "outputs": [],
   "source": [
    "inmigration_full.to_csv(\"Sudan_states_inmigration_2023-10-12.csv\", index=False)"
   ]
  }
 ],
 "metadata": {
  "kernelspec": {
   "display_name": "Python 3 (ipykernel)",
   "language": "python",
   "name": "python3"
  },
  "language_info": {
   "codemirror_mode": {
    "name": "ipython",
    "version": 3
   },
   "file_extension": ".py",
   "mimetype": "text/x-python",
   "name": "python",
   "nbconvert_exporter": "python",
   "pygments_lexer": "ipython3",
   "version": "3.11.4"
  }
 },
 "nbformat": 4,
 "nbformat_minor": 5
}
