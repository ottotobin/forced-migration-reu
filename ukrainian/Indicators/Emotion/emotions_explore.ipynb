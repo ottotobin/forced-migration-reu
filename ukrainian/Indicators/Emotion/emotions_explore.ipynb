{
 "cells": [
  {
   "cell_type": "code",
   "execution_count": 1,
   "metadata": {},
   "outputs": [],
   "source": [
    "import pandas as pd"
   ]
  },
  {
   "cell_type": "code",
   "execution_count": 2,
   "metadata": {},
   "outputs": [
    {
     "data": {
      "text/html": [
       "<div>\n",
       "<style scoped>\n",
       "    .dataframe tbody tr th:only-of-type {\n",
       "        vertical-align: middle;\n",
       "    }\n",
       "\n",
       "    .dataframe tbody tr th {\n",
       "        vertical-align: top;\n",
       "    }\n",
       "\n",
       "    .dataframe thead th {\n",
       "        text-align: right;\n",
       "    }\n",
       "</style>\n",
       "<table border=\"1\" class=\"dataframe\">\n",
       "  <thead>\n",
       "    <tr style=\"text-align: right;\">\n",
       "      <th></th>\n",
       "      <th>Unnamed: 0</th>\n",
       "      <th>date</th>\n",
       "      <th>city</th>\n",
       "      <th>tweet</th>\n",
       "      <th>predicted_emotion</th>\n",
       "    </tr>\n",
       "  </thead>\n",
       "  <tbody>\n",
       "    <tr>\n",
       "      <th>0</th>\n",
       "      <td>0</td>\n",
       "      <td>2022-10-22</td>\n",
       "      <td>Хмельницький</td>\n",
       "      <td>RT @dw_ukrainian: Хмельницький залишився без с...</td>\n",
       "      <td>others</td>\n",
       "    </tr>\n",
       "    <tr>\n",
       "      <th>1</th>\n",
       "      <td>1</td>\n",
       "      <td>2022-10-22</td>\n",
       "      <td>Хмельницький</td>\n",
       "      <td>RT @dw_ukrainian: Хмельницький залишився без с...</td>\n",
       "      <td>others</td>\n",
       "    </tr>\n",
       "    <tr>\n",
       "      <th>2</th>\n",
       "      <td>2</td>\n",
       "      <td>2022-10-22</td>\n",
       "      <td>Хмельницький</td>\n",
       "      <td>RT @superumka: Луцьк і Хмельницький просять на...</td>\n",
       "      <td>joy</td>\n",
       "    </tr>\n",
       "    <tr>\n",
       "      <th>3</th>\n",
       "      <td>3</td>\n",
       "      <td>2022-10-22</td>\n",
       "      <td>Хмельницький</td>\n",
       "      <td>Хмельницький після вранішніх вибухів опинився ...</td>\n",
       "      <td>sadness</td>\n",
       "    </tr>\n",
       "    <tr>\n",
       "      <th>4</th>\n",
       "      <td>4</td>\n",
       "      <td>2022-10-22</td>\n",
       "      <td>Хмельницький</td>\n",
       "      <td>RT @tsnua: Хмельницький після вранішніх вибухі...</td>\n",
       "      <td>sadness</td>\n",
       "    </tr>\n",
       "  </tbody>\n",
       "</table>\n",
       "</div>"
      ],
      "text/plain": [
       "   Unnamed: 0        date          city  \\\n",
       "0           0  2022-10-22  Хмельницький   \n",
       "1           1  2022-10-22  Хмельницький   \n",
       "2           2  2022-10-22  Хмельницький   \n",
       "3           3  2022-10-22  Хмельницький   \n",
       "4           4  2022-10-22  Хмельницький   \n",
       "\n",
       "                                               tweet predicted_emotion  \n",
       "0  RT @dw_ukrainian: Хмельницький залишився без с...            others  \n",
       "1  RT @dw_ukrainian: Хмельницький залишився без с...            others  \n",
       "2  RT @superumka: Луцьк і Хмельницький просять на...               joy  \n",
       "3  Хмельницький після вранішніх вибухів опинився ...           sadness  \n",
       "4  RT @tsnua: Хмельницький після вранішніх вибухі...           sadness  "
      ]
     },
     "execution_count": 2,
     "metadata": {},
     "output_type": "execute_result"
    }
   ],
   "source": [
    "df = pd.read_csv('binary_predictions_2022.csv')\n",
    "df.head()"
   ]
  },
  {
   "cell_type": "code",
   "execution_count": 3,
   "id": "41cdf860",
   "metadata": {},
   "outputs": [
    {
     "data": {
      "text/html": [
       "<div>\n",
       "<style scoped>\n",
       "    .dataframe tbody tr th:only-of-type {\n",
       "        vertical-align: middle;\n",
       "    }\n",
       "\n",
       "    .dataframe tbody tr th {\n",
       "        vertical-align: top;\n",
       "    }\n",
       "\n",
       "    .dataframe thead th {\n",
       "        text-align: right;\n",
       "    }\n",
       "</style>\n",
       "<table border=\"1\" class=\"dataframe\">\n",
       "  <thead>\n",
       "    <tr style=\"text-align: right;\">\n",
       "      <th></th>\n",
       "      <th>iso3</th>\n",
       "      <th>Country</th>\n",
       "      <th>data_date</th>\n",
       "      <th>Border_Crossings</th>\n",
       "    </tr>\n",
       "  </thead>\n",
       "  <tbody>\n",
       "    <tr>\n",
       "      <th>0</th>\n",
       "      <td>BLR</td>\n",
       "      <td>Belarus</td>\n",
       "      <td>24/Feb/2022</td>\n",
       "      <td>136</td>\n",
       "    </tr>\n",
       "    <tr>\n",
       "      <th>1</th>\n",
       "      <td>BLR</td>\n",
       "      <td>Belarus</td>\n",
       "      <td>25/Feb/2022</td>\n",
       "      <td>34</td>\n",
       "    </tr>\n",
       "    <tr>\n",
       "      <th>2</th>\n",
       "      <td>BLR</td>\n",
       "      <td>Belarus</td>\n",
       "      <td>26/Feb/2022</td>\n",
       "      <td>172</td>\n",
       "    </tr>\n",
       "    <tr>\n",
       "      <th>3</th>\n",
       "      <td>BLR</td>\n",
       "      <td>Belarus</td>\n",
       "      <td>27/Feb/2022</td>\n",
       "      <td>48</td>\n",
       "    </tr>\n",
       "    <tr>\n",
       "      <th>4</th>\n",
       "      <td>BLR</td>\n",
       "      <td>Belarus</td>\n",
       "      <td>28/Feb/2022</td>\n",
       "      <td>18</td>\n",
       "    </tr>\n",
       "  </tbody>\n",
       "</table>\n",
       "</div>"
      ],
      "text/plain": [
       "  iso3  Country    data_date  Border_Crossings \n",
       "0  BLR  Belarus  24/Feb/2022               136 \n",
       "1  BLR  Belarus  25/Feb/2022                34 \n",
       "2  BLR  Belarus  26/Feb/2022               172 \n",
       "3  BLR  Belarus  27/Feb/2022                48 \n",
       "4  BLR  Belarus  28/Feb/2022                18 "
      ]
     },
     "execution_count": 3,
     "metadata": {},
     "output_type": "execute_result"
    }
   ],
   "source": [
    "flow_df = pd.read_csv('../hcr_dat_border.csv')\n",
    "flow_df.head()"
   ]
  },
  {
   "cell_type": "code",
   "execution_count": 4,
   "id": "2645ae63",
   "metadata": {},
   "outputs": [
    {
     "data": {
      "text/html": [
       "<div>\n",
       "<style scoped>\n",
       "    .dataframe tbody tr th:only-of-type {\n",
       "        vertical-align: middle;\n",
       "    }\n",
       "\n",
       "    .dataframe tbody tr th {\n",
       "        vertical-align: top;\n",
       "    }\n",
       "\n",
       "    .dataframe thead th {\n",
       "        text-align: right;\n",
       "    }\n",
       "</style>\n",
       "<table border=\"1\" class=\"dataframe\">\n",
       "  <thead>\n",
       "    <tr style=\"text-align: right;\">\n",
       "      <th></th>\n",
       "      <th></th>\n",
       "      <th>border_crossings</th>\n",
       "    </tr>\n",
       "    <tr>\n",
       "      <th>date</th>\n",
       "      <th>Country</th>\n",
       "      <th></th>\n",
       "    </tr>\n",
       "  </thead>\n",
       "  <tbody>\n",
       "    <tr>\n",
       "      <th rowspan=\"4\" valign=\"top\">2022-02-24</th>\n",
       "      <th>Hungary</th>\n",
       "      <td>19,978</td>\n",
       "    </tr>\n",
       "    <tr>\n",
       "      <th>Poland</th>\n",
       "      <td>30,096</td>\n",
       "    </tr>\n",
       "    <tr>\n",
       "      <th>Republic of Moldova</th>\n",
       "      <td>10,928</td>\n",
       "    </tr>\n",
       "    <tr>\n",
       "      <th>Slovakia</th>\n",
       "      <td>4,844</td>\n",
       "    </tr>\n",
       "    <tr>\n",
       "      <th>2022-02-25</th>\n",
       "      <th>Hungary</th>\n",
       "      <td>19,618</td>\n",
       "    </tr>\n",
       "  </tbody>\n",
       "</table>\n",
       "</div>"
      ],
      "text/plain": [
       "                               border_crossings\n",
       "date       Country                             \n",
       "2022-02-24 Hungary                      19,978 \n",
       "           Poland                       30,096 \n",
       "           Republic of Moldova          10,928 \n",
       "           Slovakia                      4,844 \n",
       "2022-02-25 Hungary                      19,618 "
      ]
     },
     "execution_count": 4,
     "metadata": {},
     "output_type": "execute_result"
    }
   ],
   "source": [
    "#cleaning...\n",
    "countries_of_interest = ['Slovakia', 'Hungary', 'Poland', 'Republic of Moldova']\n",
    "flow_df = flow_df[flow_df.Country.isin(countries_of_interest)]\n",
    "flow_df['data_date'] = pd.to_datetime(flow_df['data_date'], format='%d/%b/%Y')\n",
    "flow_df.drop(columns=['iso3'], inplace=True)\n",
    "flow_df.rename(columns={\"data_date\": 'date', ' Border_Crossings ' : 'border_crossings'}, inplace=True)\n",
    "flow_df = flow_df.groupby(['date', 'Country']).sum()\n",
    "flow_df.head()"
   ]
  },
  {
   "cell_type": "code",
   "execution_count": 5,
   "id": "ba4b7d05",
   "metadata": {},
   "outputs": [],
   "source": [
    "flow_df['border_crossings'] = flow_df['border_crossings'].str.replace(',', '')\n",
    "flow_df['border_crossings'] = flow_df['border_crossings'].str.replace('-', '0')\n",
    "flow_df['border_crossings'] = flow_df['border_crossings'].str.strip().astype('int')"
   ]
  },
  {
   "cell_type": "code",
   "execution_count": null,
   "metadata": {},
   "outputs": [],
   "source": []
  }
 ],
 "metadata": {
  "kernelspec": {
   "display_name": "Python 3",
   "language": "python",
   "name": "python3"
  },
  "language_info": {
   "codemirror_mode": {
    "name": "ipython",
    "version": 3
   },
   "file_extension": ".py",
   "mimetype": "text/x-python",
   "name": "python",
   "nbconvert_exporter": "python",
   "pygments_lexer": "ipython3",
   "version": "3.10.6 (main, May 29 2023, 11:10:38) [GCC 11.3.0]"
  },
  "orig_nbformat": 4,
  "vscode": {
   "interpreter": {
    "hash": "31f2aee4e71d21fbe5cf8b01ff0e069b9275f58929596ceb00d14d90e3e16cd6"
   }
  }
 },
 "nbformat": 4,
 "nbformat_minor": 2
}
